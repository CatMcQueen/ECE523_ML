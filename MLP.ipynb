{
  "nbformat": 4,
  "nbformat_minor": 0,
  "metadata": {
    "colab": {
      "name": "MLP.ipynb",
      "provenance": [],
      "collapsed_sections": [],
      "authorship_tag": "ABX9TyMj/Z3fRUXRBFtrCfuzPVLx",
      "include_colab_link": true
    },
    "kernelspec": {
      "name": "python3",
      "display_name": "Python 3"
    },
    "language_info": {
      "name": "python"
    }
  },
  "cells": [
    {
      "cell_type": "markdown",
      "metadata": {
        "id": "view-in-github",
        "colab_type": "text"
      },
      "source": [
        "<a href=\"https://colab.research.google.com/github/CatMcQueen/ECE523_ML/blob/main/MLP.ipynb\" target=\"_parent\"><img src=\"https://colab.research.google.com/assets/colab-badge.svg\" alt=\"Open In Colab\"/></a>"
      ]
    },
    {
      "cell_type": "code",
      "execution_count": 1,
      "metadata": {
        "id": "L5WvQdcANl15"
      },
      "outputs": [],
      "source": [
        "import numpy as np\n",
        "import pandas as pd\n",
        "import tensorflow.keras as tk\n",
        "from keras.models import Sequential\n",
        "from keras.layers import Dense\n",
        "import keras\n",
        "import matplotlib.pyplot as plt\n",
        "import ssl\n",
        "ssl._create_default_https_context = ssl._create_unverified_context\n"
      ]
    },
    {
      "cell_type": "code",
      "source": [
        "(x_train, y_train), (x_test, y_test) = tk.datasets.cifar10.load_data()\n",
        "\n",
        "num_classes = 10\n",
        "\n",
        "# reshape data to be 1D\n",
        "x_train = x_train.reshape(x_train.shape[0], x_train.shape[1]*x_train.shape[2]*x_train.shape[3])\n",
        "x_test  = x_test.reshape(x_test.shape[0], x_test.shape[1]*x_test.shape[2]*x_test.shape[3])\n",
        "\n",
        "# get it to 0 - 255\n",
        "x_train = x_train.astype('float32')/255.0\n",
        "x_test  = x_test.astype('float32')/255.0\n",
        "\n",
        "y_train = tk.utils.to_categorical(y_train, num_classes)\n",
        "y_test  = tk.utils.to_categorical(y_test, num_classes)\n",
        "\n",
        "input_shape = x_train.shape[1]"
      ],
      "metadata": {
        "id": "y5jaHhRDNqIC",
        "colab": {
          "base_uri": "https://localhost:8080/"
        },
        "outputId": "a027e6b3-d9bd-4ba4-fa6e-7b01821827c4"
      },
      "execution_count": 2,
      "outputs": [
        {
          "output_type": "stream",
          "name": "stdout",
          "text": [
            "Downloading data from https://www.cs.toronto.edu/~kriz/cifar-10-python.tar.gz\n",
            "170500096/170498071 [==============================] - 6s 0us/step\n",
            "170508288/170498071 [==============================] - 6s 0us/step\n"
          ]
        }
      ]
    },
    {
      "cell_type": "code",
      "source": [
        "print(y_train.shape)\n",
        "print(x_train.shape)"
      ],
      "metadata": {
        "colab": {
          "base_uri": "https://localhost:8080/"
        },
        "id": "RMJ-AZl0NvWs",
        "outputId": "59ca45d6-c147-4481-979d-ac285d4d2e51"
      },
      "execution_count": 3,
      "outputs": [
        {
          "output_type": "stream",
          "name": "stdout",
          "text": [
            "(50000, 10)\n",
            "(50000, 3072)\n"
          ]
        }
      ]
    },
    {
      "cell_type": "code",
      "source": [
        "model = tk.models.Sequential()\n",
        "model.add(tk.layers.Dense(512, input_dim=input_shape, activation='relu', kernel_regularizer='l2'))\n",
        "#model.add(tk.layers.Dropout(.15))\n",
        "#activity_regularizer=tf.keras.regularizers.l2(0.01)\n",
        "model.add(tk.layers.Dense(256, activation='relu', kernel_regularizer='l2'))\n",
        "model.add(tk.layers.Dense(32, activation='relu'))\n",
        "model.add(tk.layers.Dense(num_classes, activation='softmax'))"
      ],
      "metadata": {
        "id": "8j79PdLaNzZt"
      },
      "execution_count": 25,
      "outputs": []
    },
    {
      "cell_type": "code",
      "source": [
        "model.compile(loss='categorical_crossentropy', optimizer='adam', metrics=[ 'accuracy'])\n",
        "model.fit(x_train, y_train, epochs=20, batch_size=200, verbose=1, validation_split=0.2)\n",
        "\n",
        "test_results = model.evaluate(x_test, y_test, verbose=1)\n",
        "print('Test results -- Loss: {} - Accuracy: {}'.format(test_results[0], test_results[1]))"
      ],
      "metadata": {
        "colab": {
          "base_uri": "https://localhost:8080/"
        },
        "id": "Dw59c85VN2Px",
        "outputId": "618177c2-bbd7-456f-fef3-e5940359e1e8"
      },
      "execution_count": 26,
      "outputs": [
        {
          "output_type": "stream",
          "name": "stdout",
          "text": [
            "Epoch 1/20\n",
            "200/200 [==============================] - 10s 47ms/step - loss: 3.9122 - accuracy: 0.1892 - val_loss: 2.1497 - val_accuracy: 0.2957\n",
            "Epoch 2/20\n",
            "200/200 [==============================] - 9s 46ms/step - loss: 2.0863 - accuracy: 0.2977 - val_loss: 2.0334 - val_accuracy: 0.3148\n",
            "Epoch 3/20\n",
            "200/200 [==============================] - 9s 46ms/step - loss: 1.9924 - accuracy: 0.3300 - val_loss: 1.9745 - val_accuracy: 0.3384\n",
            "Epoch 4/20\n",
            "200/200 [==============================] - 9s 46ms/step - loss: 1.9322 - accuracy: 0.3438 - val_loss: 1.9241 - val_accuracy: 0.3503\n",
            "Epoch 5/20\n",
            "200/200 [==============================] - 9s 47ms/step - loss: 1.9134 - accuracy: 0.3518 - val_loss: 1.9664 - val_accuracy: 0.3374\n",
            "Epoch 6/20\n",
            "200/200 [==============================] - 9s 46ms/step - loss: 1.8814 - accuracy: 0.3636 - val_loss: 1.8606 - val_accuracy: 0.3696\n",
            "Epoch 7/20\n",
            "200/200 [==============================] - 9s 46ms/step - loss: 1.8546 - accuracy: 0.3650 - val_loss: 1.8651 - val_accuracy: 0.3561\n",
            "Epoch 8/20\n",
            "200/200 [==============================] - 9s 45ms/step - loss: 1.8378 - accuracy: 0.3715 - val_loss: 1.8868 - val_accuracy: 0.3596\n",
            "Epoch 9/20\n",
            "200/200 [==============================] - 9s 45ms/step - loss: 1.8181 - accuracy: 0.3787 - val_loss: 1.8336 - val_accuracy: 0.3688\n",
            "Epoch 10/20\n",
            "200/200 [==============================] - 9s 46ms/step - loss: 1.8103 - accuracy: 0.3801 - val_loss: 1.8819 - val_accuracy: 0.3499\n",
            "Epoch 11/20\n",
            "200/200 [==============================] - 9s 46ms/step - loss: 1.8023 - accuracy: 0.3840 - val_loss: 1.8604 - val_accuracy: 0.3642\n",
            "Epoch 12/20\n",
            "200/200 [==============================] - 9s 46ms/step - loss: 1.7845 - accuracy: 0.3928 - val_loss: 1.7962 - val_accuracy: 0.3899\n",
            "Epoch 13/20\n",
            "200/200 [==============================] - 9s 46ms/step - loss: 1.7723 - accuracy: 0.3968 - val_loss: 1.7728 - val_accuracy: 0.3961\n",
            "Epoch 14/20\n",
            "200/200 [==============================] - 9s 46ms/step - loss: 1.7583 - accuracy: 0.4008 - val_loss: 1.8172 - val_accuracy: 0.3878\n",
            "Epoch 15/20\n",
            "200/200 [==============================] - 9s 46ms/step - loss: 1.7729 - accuracy: 0.3970 - val_loss: 1.8052 - val_accuracy: 0.3911\n",
            "Epoch 16/20\n",
            "200/200 [==============================] - 9s 46ms/step - loss: 1.7499 - accuracy: 0.4046 - val_loss: 1.7636 - val_accuracy: 0.4058\n",
            "Epoch 17/20\n",
            "200/200 [==============================] - 9s 46ms/step - loss: 1.7295 - accuracy: 0.4134 - val_loss: 1.7525 - val_accuracy: 0.3980\n",
            "Epoch 18/20\n",
            "200/200 [==============================] - 9s 46ms/step - loss: 1.7374 - accuracy: 0.4113 - val_loss: 1.7682 - val_accuracy: 0.4042\n",
            "Epoch 19/20\n",
            "200/200 [==============================] - 9s 46ms/step - loss: 1.7324 - accuracy: 0.4112 - val_loss: 1.7970 - val_accuracy: 0.3948\n",
            "Epoch 20/20\n",
            "200/200 [==============================] - 9s 46ms/step - loss: 1.7243 - accuracy: 0.4139 - val_loss: 1.7472 - val_accuracy: 0.4076\n",
            "313/313 [==============================] - 3s 8ms/step - loss: 1.7105 - accuracy: 0.4183\n",
            "Test results -- Loss: 1.7105177640914917 - Accuracy: 0.41830000281333923\n"
          ]
        }
      ]
    },
    {
      "cell_type": "code",
      "source": [
        "y_pred = model.predict(x_test)"
      ],
      "metadata": {
        "id": "vRGGX20HMIxz"
      },
      "execution_count": 7,
      "outputs": []
    },
    {
      "cell_type": "code",
      "source": [
        ""
      ],
      "metadata": {
        "colab": {
          "base_uri": "https://localhost:8080/"
        },
        "id": "ek09_UOpM621",
        "outputId": "6c07f733-d6cc-4170-9e1e-454eed8aad5d"
      },
      "execution_count": 12,
      "outputs": [
        {
          "output_type": "stream",
          "name": "stdout",
          "text": [
            "[[1.40643856e-02 8.15397128e-03 4.43309136e-02 ... 5.56560606e-03\n",
            "  2.42890924e-01 1.02549694e-01]\n",
            " [3.45629379e-02 9.71071422e-03 5.81942557e-04 ... 7.09263550e-05\n",
            "  5.61888695e-01 3.93030286e-01]\n",
            " [2.01214626e-01 2.98707578e-02 2.81499117e-03 ... 9.15949605e-03\n",
            "  7.38132179e-01 1.61118973e-02]\n",
            " ...\n",
            " [1.68880483e-03 1.24207327e-06 8.44979286e-01 ... 9.44561735e-02\n",
            "  2.61464482e-03 1.74404413e-05]\n",
            " [3.63117689e-03 4.80922963e-03 6.87946007e-02 ... 2.67642494e-02\n",
            "  8.04263400e-04 1.88059872e-03]\n",
            " [2.52862312e-02 3.93897819e-04 2.38203138e-01 ... 3.50873619e-01\n",
            "  5.08628646e-03 1.67866901e-03]]\n"
          ]
        }
      ]
    },
    {
      "cell_type": "markdown",
      "source": [
        "Calculate the test accuracy"
      ],
      "metadata": {
        "id": "G4eTHkD-NLVz"
      }
    },
    {
      "cell_type": "code",
      "source": [
        "count = 0\n",
        "for i,y_val in enumerate(y_pred):\n",
        "  #print(np.argmax(y_val), np.argmax(y_test[i]))\n",
        "  if (np.argmax(y_val) == np.argmax(y_test[i])):\n",
        "    count += 1\n",
        "print(count / len(y_pred))"
      ],
      "metadata": {
        "colab": {
          "base_uri": "https://localhost:8080/"
        },
        "id": "526n9xsUMM-E",
        "outputId": "f47dcba1-6ebe-44c3-a129-c203d9c48e2f"
      },
      "execution_count": 14,
      "outputs": [
        {
          "output_type": "stream",
          "name": "stdout",
          "text": [
            "0.5147\n"
          ]
        }
      ]
    },
    {
      "cell_type": "markdown",
      "source": [
        "313/313 [==============================] - 2s 6ms/step - loss: 1.3717 - accuracy: 0.5115\n",
        "Test results -- Loss: 1.3717408180236816 - Accuracy: 0.5115000009536743\n",
        "\n"
      ],
      "metadata": {
        "id": "hje8_FTFTmXx"
      }
    },
    {
      "cell_type": "markdown",
      "source": [
        "313/313 [==============================] - 2s 5ms/step - loss: 1.4313 - accuracy: 0.5127\n",
        "Test results -- Loss: 1.4313011169433594 - Accuracy: 0.5127000212669373"
      ],
      "metadata": {
        "id": "4PwvTneVTmGD"
      }
    },
    {
      "cell_type": "markdown",
      "source": [
        "Accuracy: .5127"
      ],
      "metadata": {
        "id": "X1reD0GCXVnB"
      }
    },
    {
      "cell_type": "markdown",
      "source": [
        ""
      ],
      "metadata": {
        "id": "sGlIteXZXVb0"
      }
    },
    {
      "cell_type": "markdown",
      "source": [
        ""
      ],
      "metadata": {
        "id": "RL9XoJNcXVYc"
      }
    },
    {
      "cell_type": "code",
      "source": [
        "model.load_weights(filepath='cifar_mlp.hdf5')"
      ],
      "metadata": {
        "id": "7ehvCJ9JN4-W",
        "colab": {
          "base_uri": "https://localhost:8080/",
          "height": 442
        },
        "outputId": "e6915f71-0010-4800-f58f-23ab608f170c"
      },
      "execution_count": 6,
      "outputs": [
        {
          "output_type": "error",
          "ename": "OSError",
          "evalue": "ignored",
          "traceback": [
            "\u001b[0;31m---------------------------------------------------------------------------\u001b[0m",
            "\u001b[0;31mOSError\u001b[0m                                   Traceback (most recent call last)",
            "\u001b[0;32m<ipython-input-6-156f2f1158c3>\u001b[0m in \u001b[0;36m<module>\u001b[0;34m()\u001b[0m\n\u001b[0;32m----> 1\u001b[0;31m \u001b[0mmodel\u001b[0m\u001b[0;34m.\u001b[0m\u001b[0mload_weights\u001b[0m\u001b[0;34m(\u001b[0m\u001b[0mfilepath\u001b[0m\u001b[0;34m=\u001b[0m\u001b[0;34m'cifar_mlp.hdf5'\u001b[0m\u001b[0;34m)\u001b[0m\u001b[0;34m\u001b[0m\u001b[0;34m\u001b[0m\u001b[0m\n\u001b[0m",
            "\u001b[0;32m/usr/local/lib/python3.7/dist-packages/keras/utils/traceback_utils.py\u001b[0m in \u001b[0;36merror_handler\u001b[0;34m(*args, **kwargs)\u001b[0m\n\u001b[1;32m     65\u001b[0m     \u001b[0;32mexcept\u001b[0m \u001b[0mException\u001b[0m \u001b[0;32mas\u001b[0m \u001b[0me\u001b[0m\u001b[0;34m:\u001b[0m  \u001b[0;31m# pylint: disable=broad-except\u001b[0m\u001b[0;34m\u001b[0m\u001b[0;34m\u001b[0m\u001b[0m\n\u001b[1;32m     66\u001b[0m       \u001b[0mfiltered_tb\u001b[0m \u001b[0;34m=\u001b[0m \u001b[0m_process_traceback_frames\u001b[0m\u001b[0;34m(\u001b[0m\u001b[0me\u001b[0m\u001b[0;34m.\u001b[0m\u001b[0m__traceback__\u001b[0m\u001b[0;34m)\u001b[0m\u001b[0;34m\u001b[0m\u001b[0;34m\u001b[0m\u001b[0m\n\u001b[0;32m---> 67\u001b[0;31m       \u001b[0;32mraise\u001b[0m \u001b[0me\u001b[0m\u001b[0;34m.\u001b[0m\u001b[0mwith_traceback\u001b[0m\u001b[0;34m(\u001b[0m\u001b[0mfiltered_tb\u001b[0m\u001b[0;34m)\u001b[0m \u001b[0;32mfrom\u001b[0m \u001b[0;32mNone\u001b[0m\u001b[0;34m\u001b[0m\u001b[0;34m\u001b[0m\u001b[0m\n\u001b[0m\u001b[1;32m     68\u001b[0m     \u001b[0;32mfinally\u001b[0m\u001b[0;34m:\u001b[0m\u001b[0;34m\u001b[0m\u001b[0;34m\u001b[0m\u001b[0m\n\u001b[1;32m     69\u001b[0m       \u001b[0;32mdel\u001b[0m \u001b[0mfiltered_tb\u001b[0m\u001b[0;34m\u001b[0m\u001b[0;34m\u001b[0m\u001b[0m\n",
            "\u001b[0;32m/usr/local/lib/python3.7/dist-packages/h5py/_hl/files.py\u001b[0m in \u001b[0;36m__init__\u001b[0;34m(self, name, mode, driver, libver, userblock_size, swmr, rdcc_nslots, rdcc_nbytes, rdcc_w0, track_order, fs_strategy, fs_persist, fs_threshold, **kwds)\u001b[0m\n\u001b[1;32m    425\u001b[0m                                fapl, fcpl=make_fcpl(track_order=track_order, fs_strategy=fs_strategy,\n\u001b[1;32m    426\u001b[0m                                fs_persist=fs_persist, fs_threshold=fs_threshold),\n\u001b[0;32m--> 427\u001b[0;31m                                swmr=swmr)\n\u001b[0m\u001b[1;32m    428\u001b[0m \u001b[0;34m\u001b[0m\u001b[0m\n\u001b[1;32m    429\u001b[0m             \u001b[0;32mif\u001b[0m \u001b[0misinstance\u001b[0m\u001b[0;34m(\u001b[0m\u001b[0mlibver\u001b[0m\u001b[0;34m,\u001b[0m \u001b[0mtuple\u001b[0m\u001b[0;34m)\u001b[0m\u001b[0;34m:\u001b[0m\u001b[0;34m\u001b[0m\u001b[0;34m\u001b[0m\u001b[0m\n",
            "\u001b[0;32m/usr/local/lib/python3.7/dist-packages/h5py/_hl/files.py\u001b[0m in \u001b[0;36mmake_fid\u001b[0;34m(name, mode, userblock_size, fapl, fcpl, swmr)\u001b[0m\n\u001b[1;32m    188\u001b[0m         \u001b[0;32mif\u001b[0m \u001b[0mswmr\u001b[0m \u001b[0;32mand\u001b[0m \u001b[0mswmr_support\u001b[0m\u001b[0;34m:\u001b[0m\u001b[0;34m\u001b[0m\u001b[0;34m\u001b[0m\u001b[0m\n\u001b[1;32m    189\u001b[0m             \u001b[0mflags\u001b[0m \u001b[0;34m|=\u001b[0m \u001b[0mh5f\u001b[0m\u001b[0;34m.\u001b[0m\u001b[0mACC_SWMR_READ\u001b[0m\u001b[0;34m\u001b[0m\u001b[0;34m\u001b[0m\u001b[0m\n\u001b[0;32m--> 190\u001b[0;31m         \u001b[0mfid\u001b[0m \u001b[0;34m=\u001b[0m \u001b[0mh5f\u001b[0m\u001b[0;34m.\u001b[0m\u001b[0mopen\u001b[0m\u001b[0;34m(\u001b[0m\u001b[0mname\u001b[0m\u001b[0;34m,\u001b[0m \u001b[0mflags\u001b[0m\u001b[0;34m,\u001b[0m \u001b[0mfapl\u001b[0m\u001b[0;34m=\u001b[0m\u001b[0mfapl\u001b[0m\u001b[0;34m)\u001b[0m\u001b[0;34m\u001b[0m\u001b[0;34m\u001b[0m\u001b[0m\n\u001b[0m\u001b[1;32m    191\u001b[0m     \u001b[0;32melif\u001b[0m \u001b[0mmode\u001b[0m \u001b[0;34m==\u001b[0m \u001b[0;34m'r+'\u001b[0m\u001b[0;34m:\u001b[0m\u001b[0;34m\u001b[0m\u001b[0;34m\u001b[0m\u001b[0m\n\u001b[1;32m    192\u001b[0m         \u001b[0mfid\u001b[0m \u001b[0;34m=\u001b[0m \u001b[0mh5f\u001b[0m\u001b[0;34m.\u001b[0m\u001b[0mopen\u001b[0m\u001b[0;34m(\u001b[0m\u001b[0mname\u001b[0m\u001b[0;34m,\u001b[0m \u001b[0mh5f\u001b[0m\u001b[0;34m.\u001b[0m\u001b[0mACC_RDWR\u001b[0m\u001b[0;34m,\u001b[0m \u001b[0mfapl\u001b[0m\u001b[0;34m=\u001b[0m\u001b[0mfapl\u001b[0m\u001b[0;34m)\u001b[0m\u001b[0;34m\u001b[0m\u001b[0;34m\u001b[0m\u001b[0m\n",
            "\u001b[0;32mh5py/_objects.pyx\u001b[0m in \u001b[0;36mh5py._objects.with_phil.wrapper\u001b[0;34m()\u001b[0m\n",
            "\u001b[0;32mh5py/_objects.pyx\u001b[0m in \u001b[0;36mh5py._objects.with_phil.wrapper\u001b[0;34m()\u001b[0m\n",
            "\u001b[0;32mh5py/h5f.pyx\u001b[0m in \u001b[0;36mh5py.h5f.open\u001b[0;34m()\u001b[0m\n",
            "\u001b[0;31mOSError\u001b[0m: Unable to open file (unable to open file: name = 'cifar_mlp.hdf5', errno = 2, error message = 'No such file or directory', flags = 0, o_flags = 0)"
          ]
        }
      ]
    }
  ]
}